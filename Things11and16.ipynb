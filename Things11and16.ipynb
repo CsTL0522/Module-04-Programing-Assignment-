{
 "cells": [
  {
   "cell_type": "code",
   "execution_count": 3,
   "id": "5a069e7d-3b91-4d52-acd2-41b198503fe4",
   "metadata": {},
   "outputs": [],
   "source": [
    "with open('zoo.py','w') as file:\n",
    "    file.write(\"\"\"\n",
    "def hours():\n",
    "    print('Open 9-5 Daily')\n",
    "\"\"\")"
   ]
  },
  {
   "cell_type": "code",
   "execution_count": 4,
   "id": "8d6dc883-ec8d-462b-a74e-c7cdf64ab97f",
   "metadata": {},
   "outputs": [
    {
     "name": "stdout",
     "output_type": "stream",
     "text": [
      "Open 9-5 Daily\n"
     ]
    }
   ],
   "source": [
    "import zoo\n",
    "zoo.hours()"
   ]
  },
  {
   "cell_type": "code",
   "execution_count": 5,
   "id": "9dede6d3-8970-4982-91f2-4624c6985aa4",
   "metadata": {},
   "outputs": [
    {
     "name": "stdout",
     "output_type": "stream",
     "text": [
      "Open 9-5 Daily\n"
     ]
    }
   ],
   "source": [
    "import zoo as menagerie\n",
    "menagerie.hours()"
   ]
  },
  {
   "cell_type": "code",
   "execution_count": 26,
   "id": "f8c3354a-529f-4e9c-94a2-305f5935bffd",
   "metadata": {},
   "outputs": [],
   "source": [
    "with open('books.csv','w') as file:\n",
    "    file.write(\"\"\"author, book\\n J RR Tolkien, The Hobit\\n Lynne Truss, \"Eats, Shoots & Leaves\" \"\"\")"
   ]
  },
  {
   "cell_type": "code",
   "execution_count": 27,
   "id": "ea2ef149-78e8-4656-8e81-0292cba12d0d",
   "metadata": {},
   "outputs": [
    {
     "name": "stdout",
     "output_type": "stream",
     "text": [
      "author, book\n",
      " J RR Tolkien, The Hobit\n",
      " Lynne Truss, \"Eats, Shoots & Leaves\" \n"
     ]
    }
   ],
   "source": [
    "with open('books.csv','r') as file:\n",
    "    content = file.read()\n",
    "print(content)"
   ]
  }
 ],
 "metadata": {
  "kernelspec": {
   "display_name": "Python 3 (ipykernel)",
   "language": "python",
   "name": "python3"
  },
  "language_info": {
   "codemirror_mode": {
    "name": "ipython",
    "version": 3
   },
   "file_extension": ".py",
   "mimetype": "text/x-python",
   "name": "python",
   "nbconvert_exporter": "python",
   "pygments_lexer": "ipython3",
   "version": "3.12.4"
  }
 },
 "nbformat": 4,
 "nbformat_minor": 5
}
